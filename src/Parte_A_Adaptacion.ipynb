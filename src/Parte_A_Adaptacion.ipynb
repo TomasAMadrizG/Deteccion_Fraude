{
 "cells": [
  {
   "cell_type": "markdown",
   "id": "bb7ebcc2",
   "metadata": {},
   "source": [
    "# Importación de librerias"
   ]
  },
  {
   "cell_type": "code",
   "execution_count": 3,
   "id": "9cd05c36",
   "metadata": {},
   "outputs": [],
   "source": [
    "import pandas as pd\n",
    "from pandas import json_normalize\n"
   ]
  },
  {
   "cell_type": "markdown",
   "id": "bc8cf472",
   "metadata": {},
   "source": [
    "# Lectura de Json"
   ]
  },
  {
   "cell_type": "code",
   "execution_count": 4,
   "id": "fa7e4db9",
   "metadata": {},
   "outputs": [],
   "source": [
    "customer_file = 'customers.json'\n",
    "df_json_nested = pd.read_json(customer_file, lines= True)"
   ]
  },
  {
   "cell_type": "code",
   "execution_count": 5,
   "id": "5172ba07",
   "metadata": {},
   "outputs": [
    {
     "data": {
      "text/html": [
       "<div>\n",
       "<style scoped>\n",
       "    .dataframe tbody tr th:only-of-type {\n",
       "        vertical-align: middle;\n",
       "    }\n",
       "\n",
       "    .dataframe tbody tr th {\n",
       "        vertical-align: top;\n",
       "    }\n",
       "\n",
       "    .dataframe thead th {\n",
       "        text-align: right;\n",
       "    }\n",
       "</style>\n",
       "<table border=\"1\" class=\"dataframe\">\n",
       "  <thead>\n",
       "    <tr style=\"text-align: right;\">\n",
       "      <th></th>\n",
       "      <th>fraudulent</th>\n",
       "      <th>customer</th>\n",
       "      <th>orders</th>\n",
       "      <th>paymentMethods</th>\n",
       "      <th>transactions</th>\n",
       "    </tr>\n",
       "  </thead>\n",
       "  <tbody>\n",
       "    <tr>\n",
       "      <th>0</th>\n",
       "      <td>False</td>\n",
       "      <td>{'customerEmail': 'josephhoward@yahoo.com', 'c...</td>\n",
       "      <td>[{'orderId': 'vjbdvd', 'orderAmount': 18, 'ord...</td>\n",
       "      <td>[{'paymentMethodId': 'wt07xm68b', 'paymentMeth...</td>\n",
       "      <td>[{'transactionId': 'a9lcj51r', 'orderId': 'vjb...</td>\n",
       "    </tr>\n",
       "    <tr>\n",
       "      <th>1</th>\n",
       "      <td>True</td>\n",
       "      <td>{'customerEmail': 'evansjeffery@yahoo.com', 'c...</td>\n",
       "      <td>[{'orderId': 'nlghpa', 'orderAmount': 45, 'ord...</td>\n",
       "      <td>[{'paymentMethodId': 'y3xp697jx', 'paymentMeth...</td>\n",
       "      <td>[{'transactionId': '5mi94sfw', 'orderId': 'nlg...</td>\n",
       "    </tr>\n",
       "    <tr>\n",
       "      <th>2</th>\n",
       "      <td>False</td>\n",
       "      <td>{'customerEmail': 'andersonwilliam@yahoo.com',...</td>\n",
       "      <td>[{'orderId': 'yk34y2', 'orderAmount': 33, 'ord...</td>\n",
       "      <td>[{'paymentMethodId': '8pneoi03z', 'paymentMeth...</td>\n",
       "      <td>[{'transactionId': 'q3lyvbza', 'orderId': 'yk3...</td>\n",
       "    </tr>\n",
       "  </tbody>\n",
       "</table>\n",
       "</div>"
      ],
      "text/plain": [
       "   fraudulent                                           customer  \\\n",
       "0       False  {'customerEmail': 'josephhoward@yahoo.com', 'c...   \n",
       "1        True  {'customerEmail': 'evansjeffery@yahoo.com', 'c...   \n",
       "2       False  {'customerEmail': 'andersonwilliam@yahoo.com',...   \n",
       "\n",
       "                                              orders  \\\n",
       "0  [{'orderId': 'vjbdvd', 'orderAmount': 18, 'ord...   \n",
       "1  [{'orderId': 'nlghpa', 'orderAmount': 45, 'ord...   \n",
       "2  [{'orderId': 'yk34y2', 'orderAmount': 33, 'ord...   \n",
       "\n",
       "                                      paymentMethods  \\\n",
       "0  [{'paymentMethodId': 'wt07xm68b', 'paymentMeth...   \n",
       "1  [{'paymentMethodId': 'y3xp697jx', 'paymentMeth...   \n",
       "2  [{'paymentMethodId': '8pneoi03z', 'paymentMeth...   \n",
       "\n",
       "                                        transactions  \n",
       "0  [{'transactionId': 'a9lcj51r', 'orderId': 'vjb...  \n",
       "1  [{'transactionId': '5mi94sfw', 'orderId': 'nlg...  \n",
       "2  [{'transactionId': 'q3lyvbza', 'orderId': 'yk3...  "
      ]
     },
     "execution_count": 5,
     "metadata": {},
     "output_type": "execute_result"
    }
   ],
   "source": [
    "df_json_nested.head(3)\n"
   ]
  },
  {
   "cell_type": "markdown",
   "id": "161a4826",
   "metadata": {},
   "source": [
    "# Desanidar el json "
   ]
  },
  {
   "cell_type": "markdown",
   "id": "139dc53c",
   "metadata": {},
   "source": [
    "### Customers dataframe"
   ]
  },
  {
   "cell_type": "code",
   "execution_count": 6,
   "id": "ed5bcd1f",
   "metadata": {},
   "outputs": [],
   "source": [
    "#normalizar la columna 'customer' que es un json anidado\n",
    "customers_df = json_normalize(df_json_nested['customer'])"
   ]
  },
  {
   "cell_type": "markdown",
   "id": "efb1150e",
   "metadata": {},
   "source": [
    "### Orders Dataframe"
   ]
  },
  {
   "cell_type": "code",
   "execution_count": 7,
   "id": "8a637942",
   "metadata": {},
   "outputs": [],
   "source": [
    "#lista de ordenes anidadas\n",
    "orders_nested = pd.DataFrame([md for md in df_json_nested[\"orders\"]])\n",
    "\n",
    "orders_list=[]\n",
    "for index,row in orders_nested.iterrows():\n",
    "    for order in row:\n",
    "        if order != None:\n",
    "            orders_list.append(order)           \n",
    "\n",
    "orders_df = pd.DataFrame(orders_list)"
   ]
  },
  {
   "cell_type": "markdown",
   "id": "e22bc85f",
   "metadata": {},
   "source": [
    "### Transactions Dataframe"
   ]
  },
  {
   "cell_type": "code",
   "execution_count": 8,
   "id": "5ad470fb",
   "metadata": {},
   "outputs": [],
   "source": [
    "#lista de transactions anidadas\n",
    "transactions_nested = pd.DataFrame([md for md in df_json_nested[\"transactions\"]])\n",
    "\n",
    "transactions_list=[]\n",
    "for index,row in transactions_nested.iterrows():\n",
    "    for transaction in row:\n",
    "        if transaction != None:\n",
    "            transactions_list.append(transaction)           \n",
    "transactions_df = pd.DataFrame(transactions_list)"
   ]
  },
  {
   "cell_type": "markdown",
   "id": "61da439e",
   "metadata": {},
   "source": [
    "### Payment Dataframe"
   ]
  },
  {
   "cell_type": "code",
   "execution_count": 9,
   "id": "82e1ea31",
   "metadata": {},
   "outputs": [],
   "source": [
    "#Creating a payment_methods dataframe:\n",
    "payment_nested = pd.DataFrame([md for md in df_json_nested[\"paymentMethods\"]])\n",
    "\n",
    "payment_methods_list=[]\n",
    "for index,row in payment_nested.iterrows():\n",
    "    for order in row:\n",
    "        if order != None:\n",
    "            payment_methods_list.append(order)           \n",
    "payment_methods_df = pd.DataFrame(payment_methods_list)"
   ]
  },
  {
   "cell_type": "markdown",
   "id": "d960ba89",
   "metadata": {},
   "source": [
    "### Fraudulent Dataframe"
   ]
  },
  {
   "cell_type": "code",
   "execution_count": 10,
   "id": "2a860776",
   "metadata": {},
   "outputs": [],
   "source": [
    "fraudulent_df = df_json_nested['fraudulent']"
   ]
  },
  {
   "cell_type": "markdown",
   "id": "2888bb62",
   "metadata": {},
   "source": [
    "### concatenar los DF"
   ]
  },
  {
   "cell_type": "code",
   "execution_count": 11,
   "id": "3da94166",
   "metadata": {},
   "outputs": [],
   "source": [
    "df_flat = pd.concat([customers_df, orders_df, payment_methods_df, transactions_df, fraudulent_df], axis=1)"
   ]
  },
  {
   "cell_type": "markdown",
   "id": "eb6bf1e8",
   "metadata": {},
   "source": [
    "### borrar columnas duplicadas"
   ]
  },
  {
   "cell_type": "code",
   "execution_count": 12,
   "id": "ef38f65c",
   "metadata": {},
   "outputs": [],
   "source": [
    "df_flat = df_flat.loc[:,~df_flat.columns.duplicated()].copy()"
   ]
  },
  {
   "cell_type": "markdown",
   "id": "6e94b2eb",
   "metadata": {},
   "source": [
    "### Columnas CustomerBillingAddress y OrderShipping address"
   ]
  },
  {
   "cell_type": "code",
   "execution_count": 13,
   "id": "b93409ca",
   "metadata": {},
   "outputs": [],
   "source": [
    "def extract_city_state_name(name_column):\n",
    "    city_list = []\n",
    "    state_list = []\n",
    "\n",
    "    for address in df_flat[name_column]:\n",
    "        try:\n",
    "            # Tomar la línea con ciudad y estado\n",
    "            aux = address.split('\\n')[1]  # Ej: 'Visalia, CA 51896'\n",
    "\n",
    "            # Separar ciudad y estado+zip\n",
    "            city = aux.split(',')[0].strip()  # Ej: 'Visalia'\n",
    "            state = aux.split(',')[1].strip().split(' ')[0]  # Ej: 'CA'\n",
    "\n",
    "            city_list.append(city)\n",
    "            state_list.append(state)\n",
    "\n",
    "        except:\n",
    "            city_list.append(\"unknown\")\n",
    "            state_list.append(\"unknown\")\n",
    "\n",
    "    return city_list, state_list\n"
   ]
  },
  {
   "cell_type": "code",
   "execution_count": 14,
   "id": "0714f754",
   "metadata": {},
   "outputs": [],
   "source": [
    "#extraer el estado de la columna customerbillingaddress\n",
    "df_flat[\"customerCitybillingaddress\"], df_flat[\"customerStatebillingaddress\"] = extract_city_state_name(\"customerBillingAddress\")\n"
   ]
  },
  {
   "cell_type": "code",
   "execution_count": 15,
   "id": "a37fcec7",
   "metadata": {},
   "outputs": [],
   "source": [
    "#extraer el estado de la columna orderShippingAddress\n",
    "df_flat[\"ordershippingaddressCity\"], df_flat[\"ordershippingaddressState\"] = extract_city_state_name(\"orderShippingAddress\")\n"
   ]
  },
  {
   "cell_type": "code",
   "execution_count": 16,
   "id": "8353a132",
   "metadata": {},
   "outputs": [],
   "source": [
    "#comparar si las direcciones de facturacion y envio son iguales\n",
    "same_city = []\n",
    "same_state = []\n",
    "\n",
    "for index in range(len(df_flat)):\n",
    "    city_billing = df_flat[\"customerCitybillingaddress\"][index]\n",
    "    city_shipping = df_flat[\"ordershippingaddressCity\"][index]\n",
    "    state_billing = df_flat[\"customerStatebillingaddress\"][index]\n",
    "    state_shipping = df_flat[\"ordershippingaddressState\"][index]\n",
    "\n",
    "    # Comparación de ciudad\n",
    "    if city_billing != \"unknown\" and city_shipping != \"unknown\":\n",
    "        same_city.append(\"yes\" if city_billing == city_shipping else \"no\")\n",
    "    else:\n",
    "        same_city.append(\"unknown\")\n",
    "\n",
    "    # Comparación de estado\n",
    "    if state_billing != \"unknown\" and state_shipping != \"unknown\":\n",
    "        same_state.append(\"yes\" if state_billing == state_shipping else \"no\")\n",
    "    else:\n",
    "        same_state.append(\"unknown\")\n"
   ]
  },
  {
   "cell_type": "code",
   "execution_count": 17,
   "id": "569a1ce8",
   "metadata": {},
   "outputs": [],
   "source": [
    "# Agregar la columna 'sameCity' al DataFrame df_flat\n",
    "df_flat[\"samecity\"] = same_city\n",
    "df_flat[\"samestate\"] = same_state\n"
   ]
  },
  {
   "cell_type": "code",
   "execution_count": 18,
   "id": "db14363c",
   "metadata": {},
   "outputs": [],
   "source": [
    "# Borrar las columnas para quedaros con samecity,same state\n",
    "df_flat = df_flat.drop(columns=[\"customerCitybillingaddress\",\"customerStatebillingaddress\",\"ordershippingaddressCity\",\"ordershippingaddressState\",\"customerBillingAddress\",\"orderShippingAddress\"])\n"
   ]
  },
  {
   "cell_type": "markdown",
   "id": "653fd880",
   "metadata": {},
   "source": [
    "### Columna CustomerEmail"
   ]
  },
  {
   "cell_type": "code",
   "execution_count": 19,
   "id": "8f0f4bf7",
   "metadata": {},
   "outputs": [],
   "source": [
    "#obtener los dominios de los emails y categorizar los proveedores populares\n",
    "email_domains= []\n",
    "mails= []\n",
    "popular_providers = ['yahoo', 'gmail', 'hotmail']\n",
    "\n",
    "for email in df_flat['customerEmail']:\n",
    "    try:\n",
    "        aux = email.split('@')[1]\n",
    "        domain = aux.split('.')[1]\n",
    "        mail = aux.split('.')[0]\n",
    "        \n",
    "        if mail in popular_providers:\n",
    "            mails.append(mail)\n",
    "        else:\n",
    "            mails.append('other')\n",
    "        email_domains.append(domain)\n",
    "        \n",
    "    except:\n",
    "        email_domains.append('weird')\n",
    "        mails.append('weird')\n",
    "        "
   ]
  },
  {
   "cell_type": "code",
   "execution_count": 20,
   "id": "e228305d",
   "metadata": {},
   "outputs": [],
   "source": [
    "#Crear columna emaildomain\n",
    "df_flat['emailDomain'] = email_domains\n"
   ]
  },
  {
   "cell_type": "code",
   "execution_count": 21,
   "id": "e920c0d5",
   "metadata": {},
   "outputs": [],
   "source": [
    "#Crear columna emailprovider\n",
    "df_flat['emailProvider'] = mails"
   ]
  },
  {
   "cell_type": "code",
   "execution_count": 22,
   "id": "07767998",
   "metadata": {},
   "outputs": [],
   "source": [
    "df_flat = df_flat.drop(['customerEmail'], axis=1)"
   ]
  },
  {
   "cell_type": "markdown",
   "id": "4a7ee9bf",
   "metadata": {},
   "source": [
    "### Columna customerIPAddress"
   ]
  },
  {
   "cell_type": "code",
   "execution_count": 23,
   "id": "c393588b",
   "metadata": {},
   "outputs": [],
   "source": [
    "#manejo de direcciones IPv4 e IPv6\n",
    "IP_addresses = []\n",
    "for address in df_flat['customerIPAddress']:\n",
    "\n",
    "    aux_address = str(address)\n",
    "    \n",
    "    if len(aux_address) > 15:\n",
    "        IP_addresses.append('digits_and_letters')\n",
    "    else:\n",
    "        IP_addresses.append('only_letters')\n",
    "\n"
   ]
  },
  {
   "cell_type": "code",
   "execution_count": 24,
   "id": "6af2175a",
   "metadata": {},
   "outputs": [],
   "source": [
    "#instanciamos las IP\n",
    "df_flat['customerIPAddressSimplified'] = IP_addresses"
   ]
  },
  {
   "cell_type": "code",
   "execution_count": 25,
   "id": "220a2c1c",
   "metadata": {},
   "outputs": [],
   "source": [
    "df_flat = df_flat.drop(['customerIPAddress'], axis=1)"
   ]
  },
  {
   "cell_type": "markdown",
   "id": "3ed82ba8",
   "metadata": {},
   "source": [
    "### Columna customerPhone"
   ]
  },
  {
   "cell_type": "code",
   "execution_count": 26,
   "id": "7c5af6ca",
   "metadata": {},
   "outputs": [],
   "source": [
    "#borrar columna\n",
    "df_flat = df_flat.drop(['customerPhone'], axis=1)"
   ]
  },
  {
   "cell_type": "markdown",
   "id": "e280f01b",
   "metadata": {},
   "source": [
    "### Columnas con identificadores"
   ]
  },
  {
   "cell_type": "code",
   "execution_count": 27,
   "id": "3185155d",
   "metadata": {},
   "outputs": [],
   "source": [
    "df_flat = df_flat.drop(['customerDevice', 'orderId', 'transactionId', 'paymentMethodId'], axis=1)"
   ]
  },
  {
   "cell_type": "code",
   "execution_count": 28,
   "id": "a062362b",
   "metadata": {},
   "outputs": [
    {
     "data": {
      "text/html": [
       "<div>\n",
       "<style scoped>\n",
       "    .dataframe tbody tr th:only-of-type {\n",
       "        vertical-align: middle;\n",
       "    }\n",
       "\n",
       "    .dataframe tbody tr th {\n",
       "        vertical-align: top;\n",
       "    }\n",
       "\n",
       "    .dataframe thead th {\n",
       "        text-align: right;\n",
       "    }\n",
       "</style>\n",
       "<table border=\"1\" class=\"dataframe\">\n",
       "  <thead>\n",
       "    <tr style=\"text-align: right;\">\n",
       "      <th></th>\n",
       "      <th>orderAmount</th>\n",
       "      <th>orderState</th>\n",
       "      <th>paymentMethodRegistrationFailure</th>\n",
       "      <th>paymentMethodType</th>\n",
       "      <th>paymentMethodProvider</th>\n",
       "      <th>paymentMethodIssuer</th>\n",
       "      <th>transactionAmount</th>\n",
       "      <th>transactionFailed</th>\n",
       "      <th>fraudulent</th>\n",
       "      <th>samecity</th>\n",
       "      <th>samestate</th>\n",
       "      <th>emailDomain</th>\n",
       "      <th>emailProvider</th>\n",
       "      <th>customerIPAddressSimplified</th>\n",
       "    </tr>\n",
       "  </thead>\n",
       "  <tbody>\n",
       "    <tr>\n",
       "      <th>0</th>\n",
       "      <td>18.0</td>\n",
       "      <td>pending</td>\n",
       "      <td>True</td>\n",
       "      <td>card</td>\n",
       "      <td>JCB 16 digit</td>\n",
       "      <td>Citizens First Banks</td>\n",
       "      <td>18</td>\n",
       "      <td>False</td>\n",
       "      <td>False</td>\n",
       "      <td>yes</td>\n",
       "      <td>yes</td>\n",
       "      <td>com</td>\n",
       "      <td>yahoo</td>\n",
       "      <td>only_letters</td>\n",
       "    </tr>\n",
       "    <tr>\n",
       "      <th>1</th>\n",
       "      <td>26.0</td>\n",
       "      <td>fulfilled</td>\n",
       "      <td>True</td>\n",
       "      <td>bitcoin</td>\n",
       "      <td>VISA 16 digit</td>\n",
       "      <td>Solace Banks</td>\n",
       "      <td>26</td>\n",
       "      <td>False</td>\n",
       "      <td>True</td>\n",
       "      <td>no</td>\n",
       "      <td>no</td>\n",
       "      <td>com</td>\n",
       "      <td>yahoo</td>\n",
       "      <td>only_letters</td>\n",
       "    </tr>\n",
       "    <tr>\n",
       "      <th>2</th>\n",
       "      <td>45.0</td>\n",
       "      <td>fulfilled</td>\n",
       "      <td>False</td>\n",
       "      <td>card</td>\n",
       "      <td>VISA 16 digit</td>\n",
       "      <td>Vertex Bancorp</td>\n",
       "      <td>45</td>\n",
       "      <td>False</td>\n",
       "      <td>False</td>\n",
       "      <td>no</td>\n",
       "      <td>no</td>\n",
       "      <td>com</td>\n",
       "      <td>yahoo</td>\n",
       "      <td>digits_and_letters</td>\n",
       "    </tr>\n",
       "  </tbody>\n",
       "</table>\n",
       "</div>"
      ],
      "text/plain": [
       "   orderAmount orderState paymentMethodRegistrationFailure paymentMethodType  \\\n",
       "0         18.0    pending                             True              card   \n",
       "1         26.0  fulfilled                             True           bitcoin   \n",
       "2         45.0  fulfilled                            False              card   \n",
       "\n",
       "  paymentMethodProvider   paymentMethodIssuer  transactionAmount  \\\n",
       "0          JCB 16 digit  Citizens First Banks                 18   \n",
       "1         VISA 16 digit          Solace Banks                 26   \n",
       "2         VISA 16 digit        Vertex Bancorp                 45   \n",
       "\n",
       "   transactionFailed fraudulent samecity samestate emailDomain emailProvider  \\\n",
       "0              False      False      yes       yes         com         yahoo   \n",
       "1              False       True       no        no         com         yahoo   \n",
       "2              False      False       no        no         com         yahoo   \n",
       "\n",
       "  customerIPAddressSimplified  \n",
       "0                only_letters  \n",
       "1                only_letters  \n",
       "2          digits_and_letters  "
      ]
     },
     "execution_count": 28,
     "metadata": {},
     "output_type": "execute_result"
    }
   ],
   "source": [
    "df_flat.head(3)"
   ]
  },
  {
   "cell_type": "markdown",
   "id": "f783d465",
   "metadata": {},
   "source": [
    "# Guardar Dataset"
   ]
  },
  {
   "cell_type": "code",
   "execution_count": 29,
   "id": "a717572b",
   "metadata": {},
   "outputs": [],
   "source": [
    "filename = \"customer_dataset.csv\"\n",
    "df_flat.to_csv(filename, index = False)"
   ]
  }
 ],
 "metadata": {
  "kernelspec": {
   "display_name": "Python 3",
   "language": "python",
   "name": "python3"
  },
  "language_info": {
   "codemirror_mode": {
    "name": "ipython",
    "version": 3
   },
   "file_extension": ".py",
   "mimetype": "text/x-python",
   "name": "python",
   "nbconvert_exporter": "python",
   "pygments_lexer": "ipython3",
   "version": "3.13.2"
  }
 },
 "nbformat": 4,
 "nbformat_minor": 5
}
