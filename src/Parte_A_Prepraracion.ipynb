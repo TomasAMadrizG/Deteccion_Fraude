{
 "cells": [
  {
   "cell_type": "markdown",
   "id": "153c9c04",
   "metadata": {},
   "source": [
    "# Importación de Librerias"
   ]
  },
  {
   "cell_type": "code",
   "execution_count": 41,
   "id": "e3d6ebdd",
   "metadata": {},
   "outputs": [],
   "source": [
    "import pandas as pd\n",
    "import pickle\n",
    "import os\n"
   ]
  },
  {
   "cell_type": "markdown",
   "id": "85328311",
   "metadata": {},
   "source": [
    "# Lectura de archivo"
   ]
  },
  {
   "cell_type": "code",
   "execution_count": 42,
   "id": "6075c68d",
   "metadata": {},
   "outputs": [],
   "source": [
    "data = pd.read_csv(\"customer_dataset.csv\", sep=',') "
   ]
  },
  {
   "cell_type": "code",
   "execution_count": 43,
   "id": "0805c770",
   "metadata": {},
   "outputs": [
    {
     "name": "stdout",
     "output_type": "stream",
     "text": [
      "<class 'pandas.core.frame.DataFrame'>\n",
      "RangeIndex: 623 entries, 0 to 622\n",
      "Data columns (total 14 columns):\n",
      " #   Column                            Non-Null Count  Dtype  \n",
      "---  ------                            --------------  -----  \n",
      " 0   orderAmount                       478 non-null    float64\n",
      " 1   orderState                        478 non-null    object \n",
      " 2   paymentMethodRegistrationFailure  342 non-null    object \n",
      " 3   paymentMethodType                 342 non-null    object \n",
      " 4   paymentMethodProvider             342 non-null    object \n",
      " 5   paymentMethodIssuer               342 non-null    object \n",
      " 6   transactionAmount                 623 non-null    int64  \n",
      " 7   transactionFailed                 623 non-null    bool   \n",
      " 8   fraudulent                        168 non-null    object \n",
      " 9   samecity                          623 non-null    object \n",
      " 10  samestate                         623 non-null    object \n",
      " 11  emailDomain                       623 non-null    object \n",
      " 12  emailProvider                     623 non-null    object \n",
      " 13  customerIPAddressSimplified       623 non-null    object \n",
      "dtypes: bool(1), float64(1), int64(1), object(11)\n",
      "memory usage: 64.0+ KB\n"
     ]
    }
   ],
   "source": [
    "data.info()"
   ]
  },
  {
   "cell_type": "markdown",
   "id": "5caee2ec",
   "metadata": {},
   "source": [
    "# Discretización"
   ]
  },
  {
   "cell_type": "markdown",
   "id": "0c95b073",
   "metadata": {},
   "source": [
    "###\n",
    "- orderAmount"
   ]
  },
  {
   "cell_type": "code",
   "execution_count": 44,
   "id": "164c7efe",
   "metadata": {},
   "outputs": [],
   "source": [
    "# Discretizacion con 5 cuantiles\n",
    "orderAmmont_cat,  saved_bins_order = pd.qcut(data['orderAmount'],q=5,duplicates='drop',retbins=True)"
   ]
  },
  {
   "cell_type": "code",
   "execution_count": 45,
   "id": "eb728664",
   "metadata": {},
   "outputs": [],
   "source": [
    "MAIN_FOLDER = os.path.abspath(os.path.join(os.getcwd(), \"..\"))\n",
    "pickle_path = os.path.join(MAIN_FOLDER, \"data\", \"model\", \"saved_bins_order.pickle\")\n",
    "\n",
    "\n",
    "# Guardar correctamente en esa ruta\n",
    "with open(pickle_path, 'wb') as handle:\n",
    "    pickle.dump(saved_bins_order, handle, protocol=pickle.HIGHEST_PROTOCOL)\n",
    "\n",
    "\n"
   ]
  },
  {
   "cell_type": "code",
   "execution_count": 46,
   "id": "db57d88d",
   "metadata": {},
   "outputs": [
    {
     "data": {
      "text/plain": [
       "orderAmount\n",
       "(9.999, 18.4]    96\n",
       "(18.4, 30.0]     96\n",
       "(30.0, 39.0]     98\n",
       "(39.0, 47.0]     97\n",
       "(47.0, 353.0]    91\n",
       "Name: count, dtype: int64"
      ]
     },
     "execution_count": 46,
     "metadata": {},
     "output_type": "execute_result"
    }
   ],
   "source": [
    "# observamos la distribucion de las categorias\n",
    "orderAmmont_cat.value_counts().sort_index()"
   ]
  },
  {
   "cell_type": "markdown",
   "id": "5ca7e373",
   "metadata": {},
   "source": [
    "### \n",
    "- transactionAmount"
   ]
  },
  {
   "cell_type": "code",
   "execution_count": 47,
   "id": "a5eb1c1c",
   "metadata": {},
   "outputs": [],
   "source": [
    "# Discretizacion con 4 cuantiles\n",
    "transactionAmount_cat, saved_bins_transaction = pd.qcut(data['transactionAmount'], q=4,duplicates='drop',retbins=True)"
   ]
  },
  {
   "cell_type": "code",
   "execution_count": 48,
   "id": "944ca667",
   "metadata": {},
   "outputs": [
    {
     "data": {
      "text/plain": [
       "transactionAmount\n",
       "(9.999, 21.0]    167\n",
       "(21.0, 34.0]     153\n",
       "(34.0, 45.0]     152\n",
       "(45.0, 353.0]    151\n",
       "Name: count, dtype: int64"
      ]
     },
     "execution_count": 48,
     "metadata": {},
     "output_type": "execute_result"
    }
   ],
   "source": [
    "# distribucion de las categorias\n",
    "transactionAmount_cat.value_counts().sort_index()"
   ]
  },
  {
   "cell_type": "code",
   "execution_count": 49,
   "id": "65f01567",
   "metadata": {},
   "outputs": [],
   "source": [
    "#guardar\n",
    "pickle_path1 = os.path.join(MAIN_FOLDER, \"data\", \"model\", \"saved_bins_transaction.pickle\")\n",
    "\n",
    "with open(pickle_path1, 'wb') as handle:\n",
    "    pickle.dump(saved_bins_transaction, handle, protocol=pickle.HIGHEST_PROTOCOL)"
   ]
  },
  {
   "cell_type": "markdown",
   "id": "77ec7752",
   "metadata": {},
   "source": [
    "# Evaluación"
   ]
  },
  {
   "cell_type": "code",
   "execution_count": 50,
   "id": "ddd947b9",
   "metadata": {},
   "outputs": [],
   "source": [
    "# creacion de una copia del dataframe original\n",
    "probando = data.copy()"
   ]
  },
  {
   "cell_type": "code",
   "execution_count": 51,
   "id": "70ba5bfa",
   "metadata": {},
   "outputs": [],
   "source": [
    "#cargar los bins guardados\n",
    "with open(pickle_path ,'rb') as handle:\n",
    "    new_saved_bins_order = pickle.load(handle)"
   ]
  },
  {
   "cell_type": "code",
   "execution_count": 52,
   "id": "cd050cf3",
   "metadata": {},
   "outputs": [],
   "source": [
    "#cargar los bins guardados\n",
    "with open(pickle_path1, 'rb') as handle:\n",
    "    new_saved_bins_transaction = pickle.load(handle)"
   ]
  },
  {
   "cell_type": "code",
   "execution_count": 53,
   "id": "946d570a",
   "metadata": {},
   "outputs": [],
   "source": [
    "#aplicar los bins guardados a la columna orderAmount\n",
    "probando['orderAmount_binned'] = pd.cut(\n",
    "    probando['orderAmount'],\n",
    "    bins=new_saved_bins_order,\n",
    "    include_lowest=True)"
   ]
  },
  {
   "cell_type": "code",
   "execution_count": 54,
   "id": "ad0552c0",
   "metadata": {},
   "outputs": [],
   "source": [
    "#aplicar los bins guardados a la columna transactionAmount\n",
    "probando['transactionAmount_binned'] = pd.cut(\n",
    "    probando['transactionAmount'],\n",
    "    bins=new_saved_bins_transaction,\n",
    "    include_lowest=True\n",
    ")"
   ]
  },
  {
   "cell_type": "code",
   "execution_count": 55,
   "id": "6090f9c8",
   "metadata": {},
   "outputs": [
    {
     "data": {
      "text/html": [
       "<div>\n",
       "<style scoped>\n",
       "    .dataframe tbody tr th:only-of-type {\n",
       "        vertical-align: middle;\n",
       "    }\n",
       "\n",
       "    .dataframe tbody tr th {\n",
       "        vertical-align: top;\n",
       "    }\n",
       "\n",
       "    .dataframe thead th {\n",
       "        text-align: right;\n",
       "    }\n",
       "</style>\n",
       "<table border=\"1\" class=\"dataframe\">\n",
       "  <thead>\n",
       "    <tr style=\"text-align: right;\">\n",
       "      <th></th>\n",
       "      <th>orderAmount</th>\n",
       "      <th>orderState</th>\n",
       "      <th>paymentMethodRegistrationFailure</th>\n",
       "      <th>paymentMethodType</th>\n",
       "      <th>paymentMethodProvider</th>\n",
       "      <th>paymentMethodIssuer</th>\n",
       "      <th>transactionAmount</th>\n",
       "      <th>transactionFailed</th>\n",
       "      <th>fraudulent</th>\n",
       "      <th>samecity</th>\n",
       "      <th>samestate</th>\n",
       "      <th>emailDomain</th>\n",
       "      <th>emailProvider</th>\n",
       "      <th>customerIPAddressSimplified</th>\n",
       "      <th>orderAmount_binned</th>\n",
       "      <th>transactionAmount_binned</th>\n",
       "    </tr>\n",
       "  </thead>\n",
       "  <tbody>\n",
       "    <tr>\n",
       "      <th>0</th>\n",
       "      <td>18.0</td>\n",
       "      <td>pending</td>\n",
       "      <td>True</td>\n",
       "      <td>card</td>\n",
       "      <td>JCB 16 digit</td>\n",
       "      <td>Citizens First Banks</td>\n",
       "      <td>18</td>\n",
       "      <td>False</td>\n",
       "      <td>False</td>\n",
       "      <td>yes</td>\n",
       "      <td>yes</td>\n",
       "      <td>com</td>\n",
       "      <td>yahoo</td>\n",
       "      <td>only_letters</td>\n",
       "      <td>(9.999, 18.4]</td>\n",
       "      <td>(9.999, 21.0]</td>\n",
       "    </tr>\n",
       "    <tr>\n",
       "      <th>1</th>\n",
       "      <td>26.0</td>\n",
       "      <td>fulfilled</td>\n",
       "      <td>True</td>\n",
       "      <td>bitcoin</td>\n",
       "      <td>VISA 16 digit</td>\n",
       "      <td>Solace Banks</td>\n",
       "      <td>26</td>\n",
       "      <td>False</td>\n",
       "      <td>True</td>\n",
       "      <td>no</td>\n",
       "      <td>no</td>\n",
       "      <td>com</td>\n",
       "      <td>yahoo</td>\n",
       "      <td>only_letters</td>\n",
       "      <td>(18.4, 30.0]</td>\n",
       "      <td>(21.0, 34.0]</td>\n",
       "    </tr>\n",
       "    <tr>\n",
       "      <th>2</th>\n",
       "      <td>45.0</td>\n",
       "      <td>fulfilled</td>\n",
       "      <td>False</td>\n",
       "      <td>card</td>\n",
       "      <td>VISA 16 digit</td>\n",
       "      <td>Vertex Bancorp</td>\n",
       "      <td>45</td>\n",
       "      <td>False</td>\n",
       "      <td>False</td>\n",
       "      <td>no</td>\n",
       "      <td>no</td>\n",
       "      <td>com</td>\n",
       "      <td>yahoo</td>\n",
       "      <td>digits_and_letters</td>\n",
       "      <td>(39.0, 47.0]</td>\n",
       "      <td>(34.0, 45.0]</td>\n",
       "    </tr>\n",
       "    <tr>\n",
       "      <th>3</th>\n",
       "      <td>23.0</td>\n",
       "      <td>fulfilled</td>\n",
       "      <td>False</td>\n",
       "      <td>card</td>\n",
       "      <td>Diners Club / Carte Blanche</td>\n",
       "      <td>His Majesty Bank Corp.</td>\n",
       "      <td>23</td>\n",
       "      <td>False</td>\n",
       "      <td>False</td>\n",
       "      <td>no</td>\n",
       "      <td>no</td>\n",
       "      <td>com</td>\n",
       "      <td>yahoo</td>\n",
       "      <td>digits_and_letters</td>\n",
       "      <td>(18.4, 30.0]</td>\n",
       "      <td>(21.0, 34.0]</td>\n",
       "    </tr>\n",
       "    <tr>\n",
       "      <th>4</th>\n",
       "      <td>43.0</td>\n",
       "      <td>fulfilled</td>\n",
       "      <td>False</td>\n",
       "      <td>card</td>\n",
       "      <td>Mastercard</td>\n",
       "      <td>Vertex Bancorp</td>\n",
       "      <td>43</td>\n",
       "      <td>True</td>\n",
       "      <td>True</td>\n",
       "      <td>no</td>\n",
       "      <td>no</td>\n",
       "      <td>com</td>\n",
       "      <td>other</td>\n",
       "      <td>only_letters</td>\n",
       "      <td>(39.0, 47.0]</td>\n",
       "      <td>(34.0, 45.0]</td>\n",
       "    </tr>\n",
       "  </tbody>\n",
       "</table>\n",
       "</div>"
      ],
      "text/plain": [
       "   orderAmount orderState paymentMethodRegistrationFailure paymentMethodType  \\\n",
       "0         18.0    pending                             True              card   \n",
       "1         26.0  fulfilled                             True           bitcoin   \n",
       "2         45.0  fulfilled                            False              card   \n",
       "3         23.0  fulfilled                            False              card   \n",
       "4         43.0  fulfilled                            False              card   \n",
       "\n",
       "         paymentMethodProvider     paymentMethodIssuer  transactionAmount  \\\n",
       "0                 JCB 16 digit    Citizens First Banks                 18   \n",
       "1                VISA 16 digit            Solace Banks                 26   \n",
       "2                VISA 16 digit          Vertex Bancorp                 45   \n",
       "3  Diners Club / Carte Blanche  His Majesty Bank Corp.                 23   \n",
       "4                   Mastercard          Vertex Bancorp                 43   \n",
       "\n",
       "   transactionFailed fraudulent samecity samestate emailDomain emailProvider  \\\n",
       "0              False      False      yes       yes         com         yahoo   \n",
       "1              False       True       no        no         com         yahoo   \n",
       "2              False      False       no        no         com         yahoo   \n",
       "3              False      False       no        no         com         yahoo   \n",
       "4               True       True       no        no         com         other   \n",
       "\n",
       "  customerIPAddressSimplified orderAmount_binned transactionAmount_binned  \n",
       "0                only_letters      (9.999, 18.4]            (9.999, 21.0]  \n",
       "1                only_letters       (18.4, 30.0]             (21.0, 34.0]  \n",
       "2          digits_and_letters       (39.0, 47.0]             (34.0, 45.0]  \n",
       "3          digits_and_letters       (18.4, 30.0]             (21.0, 34.0]  \n",
       "4                only_letters       (39.0, 47.0]             (34.0, 45.0]  "
      ]
     },
     "execution_count": 55,
     "metadata": {},
     "output_type": "execute_result"
    }
   ],
   "source": [
    "probando.head()"
   ]
  },
  {
   "cell_type": "code",
   "execution_count": 56,
   "id": "d7369720",
   "metadata": {},
   "outputs": [
    {
     "name": "stdout",
     "output_type": "stream",
     "text": [
      "Original orderAmount bins: [ 10.   18.4  30.   39.   47.  353. ]\n",
      "Aplicados en probando: IntervalIndex([(9.999, 18.4], (18.4, 30.0], (30.0, 39.0], (39.0, 47.0],\n",
      "               (47.0, 353.0]],\n",
      "              dtype='interval[float64, right]')\n"
     ]
    }
   ],
   "source": [
    "#confirmar que los bins se han aplicado correctamente\n",
    "print(\"Original orderAmount bins:\", saved_bins_order)\n",
    "print(\"Aplicados en probando:\", probando['orderAmount_binned'].cat.categories)\n"
   ]
  },
  {
   "cell_type": "code",
   "execution_count": 57,
   "id": "f8c3593f",
   "metadata": {},
   "outputs": [
    {
     "name": "stdout",
     "output_type": "stream",
     "text": [
      "Original transactionAmount bins: [ 10.  21.  34.  45. 353.]\n",
      "Aplicados en probando: IntervalIndex([(9.999, 21.0], (21.0, 34.0], (34.0, 45.0], (45.0, 353.0]], dtype='interval[float64, right]')\n"
     ]
    }
   ],
   "source": [
    "print(\"Original transactionAmount bins:\", new_saved_bins_transaction)\n",
    "print(\"Aplicados en probando:\", probando['transactionAmount_binned'].cat.categories)"
   ]
  },
  {
   "cell_type": "markdown",
   "id": "8e335493",
   "metadata": {},
   "source": [
    "# Preparacion de los datos"
   ]
  },
  {
   "cell_type": "markdown",
   "id": "719b6a66",
   "metadata": {},
   "source": [
    "- paymentMethodIssuer"
   ]
  },
  {
   "cell_type": "code",
   "execution_count": 58,
   "id": "08e4cbb7",
   "metadata": {},
   "outputs": [
    {
     "data": {
      "text/plain": [
       "281"
      ]
     },
     "execution_count": 58,
     "metadata": {},
     "output_type": "execute_result"
    }
   ],
   "source": [
    "#cantidad de datos nulos\n",
    "data['paymentMethodIssuer'].isnull().sum()"
   ]
  },
  {
   "cell_type": "code",
   "execution_count": 59,
   "id": "2aab27fe",
   "metadata": {},
   "outputs": [
    {
     "data": {
      "text/plain": [
       "dtype('O')"
      ]
     },
     "execution_count": 59,
     "metadata": {},
     "output_type": "execute_result"
    }
   ],
   "source": [
    "#tipo de dato\n",
    "data['paymentMethodIssuer'].dtype"
   ]
  },
  {
   "cell_type": "code",
   "execution_count": 60,
   "id": "591072fd",
   "metadata": {},
   "outputs": [
    {
     "data": {
      "text/plain": [
       "paymentMethodIssuer\n",
       "Her Majesty Trust           43\n",
       "Vertex Bancorp              37\n",
       "Fountain Financial Inc.     35\n",
       "His Majesty Bank Corp.      33\n",
       "Bastion Banks               29\n",
       "Bulwark Trust Corp.         29\n",
       "Citizens First Banks        28\n",
       "Grand Credit Corporation    27\n",
       "Solace Banks                27\n",
       "Rose Bancshares             25\n",
       "B                            7\n",
       "e                            5\n",
       "c                            4\n",
       "r                            3\n",
       "                             2\n",
       "n                            2\n",
       "x                            2\n",
       "o                            2\n",
       "a                            1\n",
       "p                            1\n",
       "Name: count, dtype: int64"
      ]
     },
     "execution_count": 60,
     "metadata": {},
     "output_type": "execute_result"
    }
   ],
   "source": [
    "#valores de la columna paymentMethodIssuer\n",
    "data['paymentMethodIssuer'].value_counts()"
   ]
  },
  {
   "cell_type": "code",
   "execution_count": 61,
   "id": "32c28df9",
   "metadata": {},
   "outputs": [],
   "source": [
    "# Reemplazar un valor a la vez\n",
    "weird_payment_method = [\"B\", \"e\", \"c\", \"r\", \" \", \"n\", \"x\", \"o\", \"a\", \"p\"]"
   ]
  },
  {
   "cell_type": "code",
   "execution_count": 62,
   "id": "b335932a",
   "metadata": {},
   "outputs": [],
   "source": [
    "#iterar en la columna con los valores a reemplazar con 'weird'\n",
    "data['paymentMethodIssuer'] = data['paymentMethodIssuer'].replace(weird_payment_method, 'weird')"
   ]
  },
  {
   "cell_type": "code",
   "execution_count": 63,
   "id": "5b9e527f",
   "metadata": {},
   "outputs": [
    {
     "data": {
      "text/plain": [
       "paymentMethodIssuer\n",
       "Her Majesty Trust           43\n",
       "Vertex Bancorp              37\n",
       "Fountain Financial Inc.     35\n",
       "His Majesty Bank Corp.      33\n",
       "Bastion Banks               29\n",
       "weird                       29\n",
       "Bulwark Trust Corp.         29\n",
       "Citizens First Banks        28\n",
       "Solace Banks                27\n",
       "Grand Credit Corporation    27\n",
       "Rose Bancshares             25\n",
       "Name: count, dtype: int64"
      ]
     },
     "execution_count": 63,
     "metadata": {},
     "output_type": "execute_result"
    }
   ],
   "source": [
    "# asi es como queda la columna\n",
    "data['paymentMethodIssuer'].value_counts()"
   ]
  },
  {
   "cell_type": "markdown",
   "id": "7bd20cef",
   "metadata": {},
   "source": [
    "- paymentMethodProvider"
   ]
  },
  {
   "cell_type": "code",
   "execution_count": 64,
   "id": "f1c944ef",
   "metadata": {},
   "outputs": [
    {
     "data": {
      "text/plain": [
       "281"
      ]
     },
     "execution_count": 64,
     "metadata": {},
     "output_type": "execute_result"
    }
   ],
   "source": [
    "#contamos los datos nulos\n",
    "data['paymentMethodProvider'].isnull().sum()  "
   ]
  },
  {
   "cell_type": "code",
   "execution_count": 65,
   "id": "3b16769c",
   "metadata": {},
   "outputs": [
    {
     "data": {
      "text/plain": [
       "paymentMethodProvider\n",
       "JCB 16 digit                   65\n",
       "VISA 16 digit                  57\n",
       "Voyager                        36\n",
       "Diners Club / Carte Blanche    34\n",
       "Maestro                        32\n",
       "VISA 13 digit                  32\n",
       "Discover                       25\n",
       "American Express               22\n",
       "JCB 15 digit                   20\n",
       "Mastercard                     19\n",
       "Name: count, dtype: int64"
      ]
     },
     "execution_count": 65,
     "metadata": {},
     "output_type": "execute_result"
    }
   ],
   "source": [
    "# contamos los datos \n",
    "data['paymentMethodProvider'].value_counts()"
   ]
  },
  {
   "cell_type": "markdown",
   "id": "59c3fd63",
   "metadata": {},
   "source": [
    "- paymentMethodType"
   ]
  },
  {
   "cell_type": "code",
   "execution_count": 66,
   "id": "364c9e54",
   "metadata": {},
   "outputs": [
    {
     "data": {
      "text/plain": [
       "281"
      ]
     },
     "execution_count": 66,
     "metadata": {},
     "output_type": "execute_result"
    }
   ],
   "source": [
    "#contamos los datos nulos\n",
    "data['paymentMethodType'].isnull().sum()"
   ]
  },
  {
   "cell_type": "code",
   "execution_count": 67,
   "id": "5ab3ecc7",
   "metadata": {},
   "outputs": [
    {
     "data": {
      "text/plain": [
       "paymentMethodType\n",
       "card         242\n",
       "apple pay     36\n",
       "paypal        36\n",
       "bitcoin       28\n",
       "Name: count, dtype: int64"
      ]
     },
     "execution_count": 67,
     "metadata": {},
     "output_type": "execute_result"
    }
   ],
   "source": [
    "#vemos los datos\n",
    "data['paymentMethodType'].value_counts()"
   ]
  },
  {
   "cell_type": "markdown",
   "id": "0b788e5e",
   "metadata": {},
   "source": [
    "- fraudulent"
   ]
  },
  {
   "cell_type": "code",
   "execution_count": 68,
   "id": "314f0f0b",
   "metadata": {},
   "outputs": [],
   "source": [
    "# rellenamos los datos nulos \n",
    "data['fraudulent']=data['fraudulent'].fillna(value=\"warning\")"
   ]
  },
  {
   "cell_type": "code",
   "execution_count": 69,
   "id": "8d81d890",
   "metadata": {},
   "outputs": [
    {
     "data": {
      "text/plain": [
       "fraudulent\n",
       "warning    455\n",
       "False      107\n",
       "True        61\n",
       "Name: count, dtype: int64"
      ]
     },
     "execution_count": 69,
     "metadata": {},
     "output_type": "execute_result"
    }
   ],
   "source": [
    "data[\"fraudulent\"].value_counts()"
   ]
  },
  {
   "cell_type": "code",
   "execution_count": 70,
   "id": "d3247bf2",
   "metadata": {},
   "outputs": [],
   "source": [
    "# Convertir la columna 'fraudulent' a tipo string\n",
    "data['fraudulent']=data['fraudulent'].astype(str)"
   ]
  },
  {
   "cell_type": "code",
   "execution_count": 71,
   "id": "105432f6",
   "metadata": {},
   "outputs": [],
   "source": [
    "# colocamos un diccionario para mapear los valores de la columna 'fraudulent'\n",
    "class_map = {'False': 0, 'True': 1, 'warning': 2}"
   ]
  },
  {
   "cell_type": "code",
   "execution_count": 72,
   "id": "a177a326",
   "metadata": {},
   "outputs": [],
   "source": [
    "#aplicamos el mapeo a la columna 'fraudulent'\n",
    "data['fraudulent'] = data['fraudulent'].map(class_map)"
   ]
  },
  {
   "cell_type": "code",
   "execution_count": 73,
   "id": "ba6b2367",
   "metadata": {},
   "outputs": [
    {
     "data": {
      "text/plain": [
       "array([0, 1, 2], dtype=int64)"
      ]
     },
     "execution_count": 73,
     "metadata": {},
     "output_type": "execute_result"
    }
   ],
   "source": [
    "#chequeamos\n",
    "data[\"fraudulent\"].unique()"
   ]
  },
  {
   "cell_type": "markdown",
   "id": "91aa5c91",
   "metadata": {},
   "source": [
    "# Tratamiento de datos faltantes"
   ]
  },
  {
   "cell_type": "markdown",
   "id": "b338fe96",
   "metadata": {},
   "source": [
    "### orderAmaunt"
   ]
  },
  {
   "cell_type": "code",
   "execution_count": 74,
   "id": "3ddad1fc",
   "metadata": {},
   "outputs": [
    {
     "data": {
      "text/plain": [
       "orderAmount\n",
       "46.0     21\n",
       "11.0     15\n",
       "36.0     14\n",
       "14.0     14\n",
       "12.0     14\n",
       "         ..\n",
       "353.0     1\n",
       "69.0      1\n",
       "53.0      1\n",
       "63.0      1\n",
       "62.0      1\n",
       "Name: count, Length: 67, dtype: int64"
      ]
     },
     "execution_count": 74,
     "metadata": {},
     "output_type": "execute_result"
    }
   ],
   "source": [
    "# contar las variables en este caso numericas\n",
    "data['orderAmount'].value_counts()"
   ]
  },
  {
   "cell_type": "code",
   "execution_count": 75,
   "id": "c9ac83fc",
   "metadata": {},
   "outputs": [],
   "source": [
    "# cambiamos al tipo de datos categorico\n",
    "data['orderAmount'] = data['orderAmount'].astype('category')\n"
   ]
  },
  {
   "cell_type": "code",
   "execution_count": 76,
   "id": "aaadfefe",
   "metadata": {},
   "outputs": [],
   "source": [
    "#agregamos una categoria a los datos\n",
    "data['orderAmount']=data['orderAmount'].cat.add_categories(\"desconocido\")\n"
   ]
  },
  {
   "cell_type": "code",
   "execution_count": 77,
   "id": "387a2ce4",
   "metadata": {},
   "outputs": [],
   "source": [
    "# rellenamos la categoria desconocido con el mismo nombre\n",
    "data['orderAmount'] = data['orderAmount'].fillna(\"desconocido\")\n"
   ]
  },
  {
   "cell_type": "code",
   "execution_count": 78,
   "id": "16405f51",
   "metadata": {},
   "outputs": [
    {
     "data": {
      "text/plain": [
       "orderAmount\n",
       "desconocido    145\n",
       "46.0            21\n",
       "11.0            15\n",
       "36.0            14\n",
       "12.0            14\n",
       "              ... \n",
       "69.0             1\n",
       "63.0             1\n",
       "53.0             1\n",
       "353.0            1\n",
       "62.0             1\n",
       "Name: count, Length: 68, dtype: int64"
      ]
     },
     "execution_count": 78,
     "metadata": {},
     "output_type": "execute_result"
    }
   ],
   "source": [
    "data['orderAmount'].value_counts()"
   ]
  },
  {
   "cell_type": "markdown",
   "id": "ac0b71ec",
   "metadata": {},
   "source": [
    "# 5) One hot encoding"
   ]
  },
  {
   "cell_type": "code",
   "execution_count": 79,
   "id": "1e69091e",
   "metadata": {},
   "outputs": [],
   "source": [
    "#copiamos el dataset\n",
    "data_ohe=pd.get_dummies(data)"
   ]
  },
  {
   "cell_type": "code",
   "execution_count": 80,
   "id": "f276b89a",
   "metadata": {},
   "outputs": [],
   "source": [
    "#eliminar la variable objetivo\n",
    "data_ohe_without_fraudulent = data_ohe.drop([\"fraudulent\"], axis=1)"
   ]
  },
  {
   "cell_type": "code",
   "execution_count": 81,
   "id": "174fe29c",
   "metadata": {},
   "outputs": [
    {
     "data": {
      "text/html": [
       "<div>\n",
       "<style scoped>\n",
       "    .dataframe tbody tr th:only-of-type {\n",
       "        vertical-align: middle;\n",
       "    }\n",
       "\n",
       "    .dataframe tbody tr th {\n",
       "        vertical-align: top;\n",
       "    }\n",
       "\n",
       "    .dataframe thead th {\n",
       "        text-align: right;\n",
       "    }\n",
       "</style>\n",
       "<table border=\"1\" class=\"dataframe\">\n",
       "  <thead>\n",
       "    <tr style=\"text-align: right;\">\n",
       "      <th></th>\n",
       "      <th>transactionAmount</th>\n",
       "      <th>transactionFailed</th>\n",
       "      <th>orderAmount_10.0</th>\n",
       "      <th>orderAmount_11.0</th>\n",
       "      <th>orderAmount_12.0</th>\n",
       "      <th>orderAmount_13.0</th>\n",
       "      <th>orderAmount_14.0</th>\n",
       "      <th>orderAmount_15.0</th>\n",
       "      <th>orderAmount_16.0</th>\n",
       "      <th>orderAmount_17.0</th>\n",
       "      <th>...</th>\n",
       "      <th>emailDomain_net</th>\n",
       "      <th>emailDomain_org</th>\n",
       "      <th>emailDomain_weird</th>\n",
       "      <th>emailProvider_gmail</th>\n",
       "      <th>emailProvider_hotmail</th>\n",
       "      <th>emailProvider_other</th>\n",
       "      <th>emailProvider_weird</th>\n",
       "      <th>emailProvider_yahoo</th>\n",
       "      <th>customerIPAddressSimplified_digits_and_letters</th>\n",
       "      <th>customerIPAddressSimplified_only_letters</th>\n",
       "    </tr>\n",
       "  </thead>\n",
       "  <tbody>\n",
       "    <tr>\n",
       "      <th>0</th>\n",
       "      <td>18</td>\n",
       "      <td>False</td>\n",
       "      <td>False</td>\n",
       "      <td>False</td>\n",
       "      <td>False</td>\n",
       "      <td>False</td>\n",
       "      <td>False</td>\n",
       "      <td>False</td>\n",
       "      <td>False</td>\n",
       "      <td>False</td>\n",
       "      <td>...</td>\n",
       "      <td>False</td>\n",
       "      <td>False</td>\n",
       "      <td>False</td>\n",
       "      <td>False</td>\n",
       "      <td>False</td>\n",
       "      <td>False</td>\n",
       "      <td>False</td>\n",
       "      <td>True</td>\n",
       "      <td>False</td>\n",
       "      <td>True</td>\n",
       "    </tr>\n",
       "    <tr>\n",
       "      <th>1</th>\n",
       "      <td>26</td>\n",
       "      <td>False</td>\n",
       "      <td>False</td>\n",
       "      <td>False</td>\n",
       "      <td>False</td>\n",
       "      <td>False</td>\n",
       "      <td>False</td>\n",
       "      <td>False</td>\n",
       "      <td>False</td>\n",
       "      <td>False</td>\n",
       "      <td>...</td>\n",
       "      <td>False</td>\n",
       "      <td>False</td>\n",
       "      <td>False</td>\n",
       "      <td>False</td>\n",
       "      <td>False</td>\n",
       "      <td>False</td>\n",
       "      <td>False</td>\n",
       "      <td>True</td>\n",
       "      <td>False</td>\n",
       "      <td>True</td>\n",
       "    </tr>\n",
       "    <tr>\n",
       "      <th>2</th>\n",
       "      <td>45</td>\n",
       "      <td>False</td>\n",
       "      <td>False</td>\n",
       "      <td>False</td>\n",
       "      <td>False</td>\n",
       "      <td>False</td>\n",
       "      <td>False</td>\n",
       "      <td>False</td>\n",
       "      <td>False</td>\n",
       "      <td>False</td>\n",
       "      <td>...</td>\n",
       "      <td>False</td>\n",
       "      <td>False</td>\n",
       "      <td>False</td>\n",
       "      <td>False</td>\n",
       "      <td>False</td>\n",
       "      <td>False</td>\n",
       "      <td>False</td>\n",
       "      <td>True</td>\n",
       "      <td>True</td>\n",
       "      <td>False</td>\n",
       "    </tr>\n",
       "    <tr>\n",
       "      <th>3</th>\n",
       "      <td>23</td>\n",
       "      <td>False</td>\n",
       "      <td>False</td>\n",
       "      <td>False</td>\n",
       "      <td>False</td>\n",
       "      <td>False</td>\n",
       "      <td>False</td>\n",
       "      <td>False</td>\n",
       "      <td>False</td>\n",
       "      <td>False</td>\n",
       "      <td>...</td>\n",
       "      <td>False</td>\n",
       "      <td>False</td>\n",
       "      <td>False</td>\n",
       "      <td>False</td>\n",
       "      <td>False</td>\n",
       "      <td>False</td>\n",
       "      <td>False</td>\n",
       "      <td>True</td>\n",
       "      <td>True</td>\n",
       "      <td>False</td>\n",
       "    </tr>\n",
       "    <tr>\n",
       "      <th>4</th>\n",
       "      <td>43</td>\n",
       "      <td>True</td>\n",
       "      <td>False</td>\n",
       "      <td>False</td>\n",
       "      <td>False</td>\n",
       "      <td>False</td>\n",
       "      <td>False</td>\n",
       "      <td>False</td>\n",
       "      <td>False</td>\n",
       "      <td>False</td>\n",
       "      <td>...</td>\n",
       "      <td>False</td>\n",
       "      <td>False</td>\n",
       "      <td>False</td>\n",
       "      <td>False</td>\n",
       "      <td>False</td>\n",
       "      <td>True</td>\n",
       "      <td>False</td>\n",
       "      <td>False</td>\n",
       "      <td>False</td>\n",
       "      <td>True</td>\n",
       "    </tr>\n",
       "    <tr>\n",
       "      <th>...</th>\n",
       "      <td>...</td>\n",
       "      <td>...</td>\n",
       "      <td>...</td>\n",
       "      <td>...</td>\n",
       "      <td>...</td>\n",
       "      <td>...</td>\n",
       "      <td>...</td>\n",
       "      <td>...</td>\n",
       "      <td>...</td>\n",
       "      <td>...</td>\n",
       "      <td>...</td>\n",
       "      <td>...</td>\n",
       "      <td>...</td>\n",
       "      <td>...</td>\n",
       "      <td>...</td>\n",
       "      <td>...</td>\n",
       "      <td>...</td>\n",
       "      <td>...</td>\n",
       "      <td>...</td>\n",
       "      <td>...</td>\n",
       "      <td>...</td>\n",
       "    </tr>\n",
       "    <tr>\n",
       "      <th>618</th>\n",
       "      <td>25</td>\n",
       "      <td>True</td>\n",
       "      <td>False</td>\n",
       "      <td>False</td>\n",
       "      <td>False</td>\n",
       "      <td>False</td>\n",
       "      <td>False</td>\n",
       "      <td>False</td>\n",
       "      <td>False</td>\n",
       "      <td>False</td>\n",
       "      <td>...</td>\n",
       "      <td>False</td>\n",
       "      <td>False</td>\n",
       "      <td>True</td>\n",
       "      <td>False</td>\n",
       "      <td>False</td>\n",
       "      <td>False</td>\n",
       "      <td>True</td>\n",
       "      <td>False</td>\n",
       "      <td>False</td>\n",
       "      <td>True</td>\n",
       "    </tr>\n",
       "    <tr>\n",
       "      <th>619</th>\n",
       "      <td>25</td>\n",
       "      <td>True</td>\n",
       "      <td>False</td>\n",
       "      <td>False</td>\n",
       "      <td>False</td>\n",
       "      <td>False</td>\n",
       "      <td>False</td>\n",
       "      <td>False</td>\n",
       "      <td>False</td>\n",
       "      <td>False</td>\n",
       "      <td>...</td>\n",
       "      <td>False</td>\n",
       "      <td>False</td>\n",
       "      <td>True</td>\n",
       "      <td>False</td>\n",
       "      <td>False</td>\n",
       "      <td>False</td>\n",
       "      <td>True</td>\n",
       "      <td>False</td>\n",
       "      <td>False</td>\n",
       "      <td>True</td>\n",
       "    </tr>\n",
       "    <tr>\n",
       "      <th>620</th>\n",
       "      <td>25</td>\n",
       "      <td>False</td>\n",
       "      <td>False</td>\n",
       "      <td>False</td>\n",
       "      <td>False</td>\n",
       "      <td>False</td>\n",
       "      <td>False</td>\n",
       "      <td>False</td>\n",
       "      <td>False</td>\n",
       "      <td>False</td>\n",
       "      <td>...</td>\n",
       "      <td>False</td>\n",
       "      <td>False</td>\n",
       "      <td>True</td>\n",
       "      <td>False</td>\n",
       "      <td>False</td>\n",
       "      <td>False</td>\n",
       "      <td>True</td>\n",
       "      <td>False</td>\n",
       "      <td>False</td>\n",
       "      <td>True</td>\n",
       "    </tr>\n",
       "    <tr>\n",
       "      <th>621</th>\n",
       "      <td>19</td>\n",
       "      <td>False</td>\n",
       "      <td>False</td>\n",
       "      <td>False</td>\n",
       "      <td>False</td>\n",
       "      <td>False</td>\n",
       "      <td>False</td>\n",
       "      <td>False</td>\n",
       "      <td>False</td>\n",
       "      <td>False</td>\n",
       "      <td>...</td>\n",
       "      <td>False</td>\n",
       "      <td>False</td>\n",
       "      <td>True</td>\n",
       "      <td>False</td>\n",
       "      <td>False</td>\n",
       "      <td>False</td>\n",
       "      <td>True</td>\n",
       "      <td>False</td>\n",
       "      <td>False</td>\n",
       "      <td>True</td>\n",
       "    </tr>\n",
       "    <tr>\n",
       "      <th>622</th>\n",
       "      <td>27</td>\n",
       "      <td>False</td>\n",
       "      <td>False</td>\n",
       "      <td>False</td>\n",
       "      <td>False</td>\n",
       "      <td>False</td>\n",
       "      <td>False</td>\n",
       "      <td>False</td>\n",
       "      <td>False</td>\n",
       "      <td>False</td>\n",
       "      <td>...</td>\n",
       "      <td>False</td>\n",
       "      <td>False</td>\n",
       "      <td>True</td>\n",
       "      <td>False</td>\n",
       "      <td>False</td>\n",
       "      <td>False</td>\n",
       "      <td>True</td>\n",
       "      <td>False</td>\n",
       "      <td>False</td>\n",
       "      <td>True</td>\n",
       "    </tr>\n",
       "  </tbody>\n",
       "</table>\n",
       "<p>623 rows × 119 columns</p>\n",
       "</div>"
      ],
      "text/plain": [
       "     transactionAmount  transactionFailed  orderAmount_10.0  orderAmount_11.0  \\\n",
       "0                   18              False             False             False   \n",
       "1                   26              False             False             False   \n",
       "2                   45              False             False             False   \n",
       "3                   23              False             False             False   \n",
       "4                   43               True             False             False   \n",
       "..                 ...                ...               ...               ...   \n",
       "618                 25               True             False             False   \n",
       "619                 25               True             False             False   \n",
       "620                 25              False             False             False   \n",
       "621                 19              False             False             False   \n",
       "622                 27              False             False             False   \n",
       "\n",
       "     orderAmount_12.0  orderAmount_13.0  orderAmount_14.0  orderAmount_15.0  \\\n",
       "0               False             False             False             False   \n",
       "1               False             False             False             False   \n",
       "2               False             False             False             False   \n",
       "3               False             False             False             False   \n",
       "4               False             False             False             False   \n",
       "..                ...               ...               ...               ...   \n",
       "618             False             False             False             False   \n",
       "619             False             False             False             False   \n",
       "620             False             False             False             False   \n",
       "621             False             False             False             False   \n",
       "622             False             False             False             False   \n",
       "\n",
       "     orderAmount_16.0  orderAmount_17.0  ...  emailDomain_net  \\\n",
       "0               False             False  ...            False   \n",
       "1               False             False  ...            False   \n",
       "2               False             False  ...            False   \n",
       "3               False             False  ...            False   \n",
       "4               False             False  ...            False   \n",
       "..                ...               ...  ...              ...   \n",
       "618             False             False  ...            False   \n",
       "619             False             False  ...            False   \n",
       "620             False             False  ...            False   \n",
       "621             False             False  ...            False   \n",
       "622             False             False  ...            False   \n",
       "\n",
       "     emailDomain_org  emailDomain_weird  emailProvider_gmail  \\\n",
       "0              False              False                False   \n",
       "1              False              False                False   \n",
       "2              False              False                False   \n",
       "3              False              False                False   \n",
       "4              False              False                False   \n",
       "..               ...                ...                  ...   \n",
       "618            False               True                False   \n",
       "619            False               True                False   \n",
       "620            False               True                False   \n",
       "621            False               True                False   \n",
       "622            False               True                False   \n",
       "\n",
       "     emailProvider_hotmail  emailProvider_other  emailProvider_weird  \\\n",
       "0                    False                False                False   \n",
       "1                    False                False                False   \n",
       "2                    False                False                False   \n",
       "3                    False                False                False   \n",
       "4                    False                 True                False   \n",
       "..                     ...                  ...                  ...   \n",
       "618                  False                False                 True   \n",
       "619                  False                False                 True   \n",
       "620                  False                False                 True   \n",
       "621                  False                False                 True   \n",
       "622                  False                False                 True   \n",
       "\n",
       "     emailProvider_yahoo  customerIPAddressSimplified_digits_and_letters  \\\n",
       "0                   True                                           False   \n",
       "1                   True                                           False   \n",
       "2                   True                                            True   \n",
       "3                   True                                            True   \n",
       "4                  False                                           False   \n",
       "..                   ...                                             ...   \n",
       "618                False                                           False   \n",
       "619                False                                           False   \n",
       "620                False                                           False   \n",
       "621                False                                           False   \n",
       "622                False                                           False   \n",
       "\n",
       "     customerIPAddressSimplified_only_letters  \n",
       "0                                        True  \n",
       "1                                        True  \n",
       "2                                       False  \n",
       "3                                       False  \n",
       "4                                        True  \n",
       "..                                        ...  \n",
       "618                                      True  \n",
       "619                                      True  \n",
       "620                                      True  \n",
       "621                                      True  \n",
       "622                                      True  \n",
       "\n",
       "[623 rows x 119 columns]"
      ]
     },
     "execution_count": 81,
     "metadata": {},
     "output_type": "execute_result"
    }
   ],
   "source": [
    "data_ohe_without_fraudulent"
   ]
  },
  {
   "cell_type": "code",
   "execution_count": 82,
   "id": "e98aad29",
   "metadata": {},
   "outputs": [],
   "source": [
    "#guardamos los datos\n",
    "\n",
    "columns_path = os.path.join(MAIN_FOLDER, \"data\", \"model\", \"categories_ohe_without_fraudulent.pickle\")\n",
    "with open(columns_path, 'wb') as handle:\n",
    "    pickle.dump(data_ohe_without_fraudulent.columns, handle, protocol=pickle.HIGHEST_PROTOCOL)"
   ]
  },
  {
   "cell_type": "code",
   "execution_count": 83,
   "id": "cacb11a1",
   "metadata": {},
   "outputs": [],
   "source": [
    "#guardamos todo el dataset con la variable fraudulent\n",
    "filename_path = os.path.join(MAIN_FOLDER, \"data\", \"model\", \"ohe_customer_dataset.csv\")\n",
    "data_ohe.to_csv(filename_path, index = False)"
   ]
  },
  {
   "cell_type": "code",
   "execution_count": 44,
   "id": "f103bf86",
   "metadata": {},
   "outputs": [
    {
     "data": {
      "text/html": [
       "<div>\n",
       "<style scoped>\n",
       "    .dataframe tbody tr th:only-of-type {\n",
       "        vertical-align: middle;\n",
       "    }\n",
       "\n",
       "    .dataframe tbody tr th {\n",
       "        vertical-align: top;\n",
       "    }\n",
       "\n",
       "    .dataframe thead th {\n",
       "        text-align: right;\n",
       "    }\n",
       "</style>\n",
       "<table border=\"1\" class=\"dataframe\">\n",
       "  <thead>\n",
       "    <tr style=\"text-align: right;\">\n",
       "      <th></th>\n",
       "      <th>orderAmount</th>\n",
       "      <th>orderState</th>\n",
       "      <th>paymentMethodRegistrationFailure</th>\n",
       "      <th>paymentMethodType</th>\n",
       "      <th>paymentMethodProvider</th>\n",
       "      <th>paymentMethodIssuer</th>\n",
       "      <th>transactionAmount</th>\n",
       "      <th>transactionFailed</th>\n",
       "      <th>fraudulent</th>\n",
       "      <th>samecity</th>\n",
       "      <th>samestate</th>\n",
       "      <th>emailDomain</th>\n",
       "      <th>emailProvider</th>\n",
       "      <th>customerIPAddressSimplified</th>\n",
       "    </tr>\n",
       "  </thead>\n",
       "  <tbody>\n",
       "    <tr>\n",
       "      <th>1</th>\n",
       "      <td>26.0</td>\n",
       "      <td>fulfilled</td>\n",
       "      <td>True</td>\n",
       "      <td>bitcoin</td>\n",
       "      <td>VISA 16 digit</td>\n",
       "      <td>Solace Banks</td>\n",
       "      <td>26</td>\n",
       "      <td>False</td>\n",
       "      <td>1</td>\n",
       "      <td>no</td>\n",
       "      <td>no</td>\n",
       "      <td>com</td>\n",
       "      <td>yahoo</td>\n",
       "      <td>only_letters</td>\n",
       "    </tr>\n",
       "    <tr>\n",
       "      <th>4</th>\n",
       "      <td>43.0</td>\n",
       "      <td>fulfilled</td>\n",
       "      <td>False</td>\n",
       "      <td>card</td>\n",
       "      <td>Mastercard</td>\n",
       "      <td>Vertex Bancorp</td>\n",
       "      <td>43</td>\n",
       "      <td>True</td>\n",
       "      <td>1</td>\n",
       "      <td>no</td>\n",
       "      <td>no</td>\n",
       "      <td>com</td>\n",
       "      <td>other</td>\n",
       "      <td>only_letters</td>\n",
       "    </tr>\n",
       "    <tr>\n",
       "      <th>5</th>\n",
       "      <td>33.0</td>\n",
       "      <td>failed</td>\n",
       "      <td>False</td>\n",
       "      <td>bitcoin</td>\n",
       "      <td>American Express</td>\n",
       "      <td>Bastion Banks</td>\n",
       "      <td>33</td>\n",
       "      <td>False</td>\n",
       "      <td>1</td>\n",
       "      <td>no</td>\n",
       "      <td>no</td>\n",
       "      <td>com</td>\n",
       "      <td>other</td>\n",
       "      <td>only_letters</td>\n",
       "    </tr>\n",
       "    <tr>\n",
       "      <th>6</th>\n",
       "      <td>24.0</td>\n",
       "      <td>fulfilled</td>\n",
       "      <td>False</td>\n",
       "      <td>card</td>\n",
       "      <td>Maestro</td>\n",
       "      <td>Her Majesty Trust</td>\n",
       "      <td>24</td>\n",
       "      <td>True</td>\n",
       "      <td>1</td>\n",
       "      <td>no</td>\n",
       "      <td>no</td>\n",
       "      <td>com</td>\n",
       "      <td>other</td>\n",
       "      <td>only_letters</td>\n",
       "    </tr>\n",
       "    <tr>\n",
       "      <th>7</th>\n",
       "      <td>25.0</td>\n",
       "      <td>fulfilled</td>\n",
       "      <td>False</td>\n",
       "      <td>card</td>\n",
       "      <td>JCB 16 digit</td>\n",
       "      <td>Fountain Financial Inc.</td>\n",
       "      <td>24</td>\n",
       "      <td>False</td>\n",
       "      <td>1</td>\n",
       "      <td>no</td>\n",
       "      <td>no</td>\n",
       "      <td>com</td>\n",
       "      <td>gmail</td>\n",
       "      <td>only_letters</td>\n",
       "    </tr>\n",
       "    <tr>\n",
       "      <th>...</th>\n",
       "      <td>...</td>\n",
       "      <td>...</td>\n",
       "      <td>...</td>\n",
       "      <td>...</td>\n",
       "      <td>...</td>\n",
       "      <td>...</td>\n",
       "      <td>...</td>\n",
       "      <td>...</td>\n",
       "      <td>...</td>\n",
       "      <td>...</td>\n",
       "      <td>...</td>\n",
       "      <td>...</td>\n",
       "      <td>...</td>\n",
       "      <td>...</td>\n",
       "    </tr>\n",
       "    <tr>\n",
       "      <th>161</th>\n",
       "      <td>48.0</td>\n",
       "      <td>failed</td>\n",
       "      <td>True</td>\n",
       "      <td>apple pay</td>\n",
       "      <td>VISA 16 digit</td>\n",
       "      <td>Bulwark Trust Corp.</td>\n",
       "      <td>47</td>\n",
       "      <td>False</td>\n",
       "      <td>1</td>\n",
       "      <td>no</td>\n",
       "      <td>no</td>\n",
       "      <td>com</td>\n",
       "      <td>other</td>\n",
       "      <td>digits_and_letters</td>\n",
       "    </tr>\n",
       "    <tr>\n",
       "      <th>163</th>\n",
       "      <td>29.0</td>\n",
       "      <td>fulfilled</td>\n",
       "      <td>False</td>\n",
       "      <td>card</td>\n",
       "      <td>VISA 13 digit</td>\n",
       "      <td>Fountain Financial Inc.</td>\n",
       "      <td>39</td>\n",
       "      <td>False</td>\n",
       "      <td>1</td>\n",
       "      <td>no</td>\n",
       "      <td>no</td>\n",
       "      <td>com</td>\n",
       "      <td>other</td>\n",
       "      <td>only_letters</td>\n",
       "    </tr>\n",
       "    <tr>\n",
       "      <th>164</th>\n",
       "      <td>22.0</td>\n",
       "      <td>fulfilled</td>\n",
       "      <td>False</td>\n",
       "      <td>apple pay</td>\n",
       "      <td>VISA 13 digit</td>\n",
       "      <td>Vertex Bancorp</td>\n",
       "      <td>18</td>\n",
       "      <td>True</td>\n",
       "      <td>1</td>\n",
       "      <td>no</td>\n",
       "      <td>no</td>\n",
       "      <td>biz</td>\n",
       "      <td>other</td>\n",
       "      <td>only_letters</td>\n",
       "    </tr>\n",
       "    <tr>\n",
       "      <th>165</th>\n",
       "      <td>44.0</td>\n",
       "      <td>fulfilled</td>\n",
       "      <td>False</td>\n",
       "      <td>card</td>\n",
       "      <td>Discover</td>\n",
       "      <td>weird</td>\n",
       "      <td>18</td>\n",
       "      <td>False</td>\n",
       "      <td>1</td>\n",
       "      <td>no</td>\n",
       "      <td>no</td>\n",
       "      <td>com</td>\n",
       "      <td>gmail</td>\n",
       "      <td>digits_and_letters</td>\n",
       "    </tr>\n",
       "    <tr>\n",
       "      <th>166</th>\n",
       "      <td>43.0</td>\n",
       "      <td>failed</td>\n",
       "      <td>False</td>\n",
       "      <td>bitcoin</td>\n",
       "      <td>VISA 13 digit</td>\n",
       "      <td>weird</td>\n",
       "      <td>29</td>\n",
       "      <td>False</td>\n",
       "      <td>1</td>\n",
       "      <td>no</td>\n",
       "      <td>no</td>\n",
       "      <td>com</td>\n",
       "      <td>other</td>\n",
       "      <td>only_letters</td>\n",
       "    </tr>\n",
       "  </tbody>\n",
       "</table>\n",
       "<p>61 rows × 14 columns</p>\n",
       "</div>"
      ],
      "text/plain": [
       "    orderAmount orderState paymentMethodRegistrationFailure paymentMethodType  \\\n",
       "1          26.0  fulfilled                             True           bitcoin   \n",
       "4          43.0  fulfilled                            False              card   \n",
       "5          33.0     failed                            False           bitcoin   \n",
       "6          24.0  fulfilled                            False              card   \n",
       "7          25.0  fulfilled                            False              card   \n",
       "..          ...        ...                              ...               ...   \n",
       "161        48.0     failed                             True         apple pay   \n",
       "163        29.0  fulfilled                            False              card   \n",
       "164        22.0  fulfilled                            False         apple pay   \n",
       "165        44.0  fulfilled                            False              card   \n",
       "166        43.0     failed                            False           bitcoin   \n",
       "\n",
       "    paymentMethodProvider      paymentMethodIssuer  transactionAmount  \\\n",
       "1           VISA 16 digit             Solace Banks                 26   \n",
       "4              Mastercard           Vertex Bancorp                 43   \n",
       "5        American Express            Bastion Banks                 33   \n",
       "6                 Maestro        Her Majesty Trust                 24   \n",
       "7            JCB 16 digit  Fountain Financial Inc.                 24   \n",
       "..                    ...                      ...                ...   \n",
       "161         VISA 16 digit      Bulwark Trust Corp.                 47   \n",
       "163         VISA 13 digit  Fountain Financial Inc.                 39   \n",
       "164         VISA 13 digit           Vertex Bancorp                 18   \n",
       "165              Discover                    weird                 18   \n",
       "166         VISA 13 digit                    weird                 29   \n",
       "\n",
       "     transactionFailed  fraudulent samecity samestate emailDomain  \\\n",
       "1                False           1       no        no         com   \n",
       "4                 True           1       no        no         com   \n",
       "5                False           1       no        no         com   \n",
       "6                 True           1       no        no         com   \n",
       "7                False           1       no        no         com   \n",
       "..                 ...         ...      ...       ...         ...   \n",
       "161              False           1       no        no         com   \n",
       "163              False           1       no        no         com   \n",
       "164               True           1       no        no         biz   \n",
       "165              False           1       no        no         com   \n",
       "166              False           1       no        no         com   \n",
       "\n",
       "    emailProvider customerIPAddressSimplified  \n",
       "1           yahoo                only_letters  \n",
       "4           other                only_letters  \n",
       "5           other                only_letters  \n",
       "6           other                only_letters  \n",
       "7           gmail                only_letters  \n",
       "..            ...                         ...  \n",
       "161         other          digits_and_letters  \n",
       "163         other                only_letters  \n",
       "164         other                only_letters  \n",
       "165         gmail          digits_and_letters  \n",
       "166         other                only_letters  \n",
       "\n",
       "[61 rows x 14 columns]"
      ]
     },
     "execution_count": 44,
     "metadata": {},
     "output_type": "execute_result"
    }
   ],
   "source": [
    "data[data['fraudulent']==1]"
   ]
  },
  {
   "cell_type": "code",
   "execution_count": 45,
   "id": "c2ef13d3",
   "metadata": {},
   "outputs": [
    {
     "data": {
      "text/plain": [
       "Index(['orderAmount', 'orderState', 'paymentMethodRegistrationFailure',\n",
       "       'paymentMethodType', 'paymentMethodProvider', 'paymentMethodIssuer',\n",
       "       'transactionAmount', 'transactionFailed', 'fraudulent', 'samecity',\n",
       "       'samestate', 'emailDomain', 'emailProvider',\n",
       "       'customerIPAddressSimplified'],\n",
       "      dtype='object')"
      ]
     },
     "execution_count": 45,
     "metadata": {},
     "output_type": "execute_result"
    }
   ],
   "source": [
    "data.columns"
   ]
  },
  {
   "cell_type": "code",
   "execution_count": 51,
   "id": "2d96b45c",
   "metadata": {},
   "outputs": [
    {
     "data": {
      "text/plain": [
       "paymentMethodIssuer\n",
       "Her Majesty Trust           43\n",
       "Vertex Bancorp              37\n",
       "Fountain Financial Inc.     35\n",
       "His Majesty Bank Corp.      33\n",
       "Bastion Banks               29\n",
       "weird                       29\n",
       "Bulwark Trust Corp.         29\n",
       "Citizens First Banks        28\n",
       "Solace Banks                27\n",
       "Grand Credit Corporation    27\n",
       "Rose Bancshares             25\n",
       "Name: count, dtype: int64"
      ]
     },
     "execution_count": 51,
     "metadata": {},
     "output_type": "execute_result"
    }
   ],
   "source": [
    "data['paymentMethodIssuer'].value_counts()"
   ]
  },
  {
   "cell_type": "code",
   "execution_count": 59,
   "id": "354299bb",
   "metadata": {},
   "outputs": [
    {
     "name": "stdout",
     "output_type": "stream",
     "text": [
      "['yes', 'no', 'unknown']\n"
     ]
    }
   ],
   "source": [
    "t=data['samecity'].unique().tolist()\n",
    "print(t)"
   ]
  },
  {
   "cell_type": "code",
   "execution_count": 61,
   "id": "c6dc00df",
   "metadata": {},
   "outputs": [
    {
     "data": {
      "text/plain": [
       "orderAmount                         category\n",
       "orderState                            object\n",
       "paymentMethodRegistrationFailure      object\n",
       "paymentMethodType                     object\n",
       "paymentMethodProvider                 object\n",
       "paymentMethodIssuer                   object\n",
       "transactionAmount                      int64\n",
       "transactionFailed                       bool\n",
       "fraudulent                             int64\n",
       "samecity                              object\n",
       "samestate                             object\n",
       "emailDomain                           object\n",
       "emailProvider                         object\n",
       "customerIPAddressSimplified           object\n",
       "dtype: object"
      ]
     },
     "execution_count": 61,
     "metadata": {},
     "output_type": "execute_result"
    }
   ],
   "source": [
    "data.dtypes\n"
   ]
  }
 ],
 "metadata": {
  "kernelspec": {
   "display_name": "Python 3",
   "language": "python",
   "name": "python3"
  },
  "language_info": {
   "codemirror_mode": {
    "name": "ipython",
    "version": 3
   },
   "file_extension": ".py",
   "mimetype": "text/x-python",
   "name": "python",
   "nbconvert_exporter": "python",
   "pygments_lexer": "ipython3",
   "version": "3.13.2"
  }
 },
 "nbformat": 4,
 "nbformat_minor": 5
}
